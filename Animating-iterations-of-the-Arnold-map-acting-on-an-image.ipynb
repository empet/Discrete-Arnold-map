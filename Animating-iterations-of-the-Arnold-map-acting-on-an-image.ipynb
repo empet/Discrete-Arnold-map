{
 "cells": [
  {
   "cell_type": "markdown",
   "metadata": {},
   "source": [
    "## Animating the action of the Arnold map on a discrete image"
   ]
  },
  {
   "cell_type": "markdown",
   "metadata": {},
   "source": [
    "The Arnold's cat map is a chaotic map acting on the torus $\\mathbb{T}^2= \\mathbb{R}^2/\\mathbb{Z}^2$, represented by the unit square,  $[0,1) \\times [0,1)$.\n",
    "\n",
    "This  map is defined by $f(x,y) =(x', y')$, with:\n",
    "\n",
    "$$\\left(\\begin{array}{l}x'\\\\y'\\end{array}\\right) =\\left(\\begin{array}{ll}2&1\\\\1&1\\end{array}\\right)\\left(\\begin{array}{l}x\\\\y\\end{array}\\right) \\:\\:(\\mbox{mod}\\: 1)$$ \n",
    "\n",
    "or by $$\\left(\\begin{array}{l}x'\\\\y'\\end{array}\\right) =\\left(\\begin{array}{ll}1&1\\\\1&2\\end{array}\\right)\\left(\\begin{array}{l}x\\\\y\\end{array}\\right) \\:\\:(\\mbox{mod}\\: 1)$$ \n",
    "\n",
    "The two maps are  equivalent (topologically conjugate), i.e. they exhibit the same dynamical behaviour.   The first version is mostly used in the study of chaotic dynamical systems, while the second in connection to image encryption.\n",
    "\n",
    "The discrete version, $f_d$,  of the Arnold map acts on a  grid over the unit square or on an image of resolution $N \\times N$,\n",
    "represented by an array of shape (N,N).\n",
    "This map is defined as follows:\n",
    "$$f_d : \\{0,1,2, \\ldots, N-1\\} \\times  \\{0,1,2, \\ldots, N-1\\} \\to  \\{0,1,2, \\ldots, N-1\\} \\times  \\{0,1,2, \\ldots, N-1\\}, \\quad f_d(x, y)=(x', y'),$$\n",
    "with:\n",
    "  $$\\left(\\begin{array}{l}x'\\\\y'\\end{array}\\right) =\\left(\\begin{array}{ll}2&1\\\\1&1\\end{array}\\right)\\left(\\begin{array}{l}x\\\\y\\end{array}\\right), \\:\\:(\\mbox{mod}\\: N)$$ \n",
    "  \n",
    "  Here (x, y) are the coordinates of a pixel in an image referenced to a right system of axes, Ox, Oy, with origin, O, coinciding with the lower left pixel. If (i, j) are the (row, column) of a pixel, and (x,y) the coordinates of the same pixel, then j=x, and i=N-1-y.\n",
    "  If Img is a fixed image, and Img' = f_d(Img) is the resulted image through the transformation  $f_d$, then to a  pixel in Img, of coordinates (x,y), and color c,   corresponds the pixel of coordinates (x', y') and the same color in Img'.  Hence the discrete Arnold map shuffles the pixel colors. After  some iteration the  mixing of colors occurs.\n",
    "  \n",
    "  On the other hand the discrete version of the Arnold map has a regularity that is not exhibited by the classical Arnold map, that acts on the entire torus, not only on a grid on it. Namely,  there exists a  positive integer, p(N), that depends on the image resolution,  such that $f^p_d(Img)=Img$, i.e after a number of iterations we get again the original image. The  least number, p(N), with this property is called the image period with respect to the map $f_d$. The period p(N) or an upper bound for it   is deduced in: [https://arxiv.org/abs/1111.2984](https://arxiv.org/abs/1111.2984)), [https://link.springer.com/article/10.1007/s11071-012-0539-3](https://link.springer.com/article/10.1007/s11071-012-0539-3)).\n",
    "  \n",
    "Note that the periodicity of all  images of the same resolution, $N\\times N$, with respect to the Arnold map $f_d$ is a consequence of the property $A^p=Id$, where\n",
    "$A$  is the matrix in the Arnold map definition, and the product $A^p$ is computed in $Z_N$, i.e. modulo N.\n",
    "\n",
    "For image encryption algorithms periodicity of an image is a drawback. That's why generalized Arnold maps are used instead of the classical Arnold maps, defined above. These maps  depend on two parameters that can be adjusted to get a map that ensures a bigger period for an image of resolution $N\\times N$. \n",
    "\n",
    " A generalized Arnold map   is represented by an integer matrix of the form:\n",
    "  \n",
    "  $$A=\\left(\\begin{array}{ll}1+ab&a\\\\b&1\\end{array}\\right)\\:\\: \\mbox{or}\\:\\: A= \\left(\\begin{array}{ll}1&a\\\\b&1+ab\\end{array}\\right), \\:\\: a, b, \\mbox{positive integers}$$  \n",
    "  For a=b=1 we get the classical versions of the Arnold map.\n"
   ]
  },
  {
   "cell_type": "markdown",
   "metadata": {},
   "source": [
    "The aim of this notebook is twofold: first, to illustrate the properties of the discrete Arnold cat map, and second to give an example of \n",
    "    simultaneous 2d and 3d plot animations, as well as to perform the layout update for each frame. "
   ]
  },
  {
   "cell_type": "markdown",
   "metadata": {},
   "source": [
    "To illustrate how the discrete Arnold map acts on an image we define a subplot with two windows. In the left one we are displaying a cat image, while in the right one the image mapped, as a texture,  onto a 2D toral surface. Then we are applying succesive iteration of the discrete Arnold map to the original image, and plot\n",
    "as a new animation frame the corresponding planar, respectively toral image."
   ]
  },
  {
   "cell_type": "code",
   "execution_count": null,
   "metadata": {},
   "outputs": [],
   "source": [
    "import numpy as np\n",
    "from numpy import sin, cos, pi\n",
    "import skimage.io as sio\n",
    "import plotly.graph_objects as go\n",
    "from plotly.subplots import make_subplots"
   ]
  },
  {
   "cell_type": "code",
   "execution_count": null,
   "metadata": {},
   "outputs": [],
   "source": [
    "url='https://raw.githubusercontent.com/empet/Discrete-Arnold-map/master/Images/cat-128.jpg'\n",
    "imag = sio.imread (url)\n",
    "img = imag[:, :, 1]\n",
    "img.shape"
   ]
  },
  {
   "cell_type": "markdown",
   "metadata": {},
   "source": [
    "An image of resolution $128\\times 128$ has the period 96,  with respect to the classical Arnold map (a=b=1)."
   ]
  },
  {
   "cell_type": "code",
   "execution_count": null,
   "metadata": {},
   "outputs": [],
   "source": [
    "N = img.shape[0]\n",
    "surfcolor = [np.flipud(img)]\n",
    "#Parameterization of the 2d torus (as a surface)\n",
    "su = np.linspace(-0.5, 0.5, N)\n",
    "sv = np.linspace(0, 1, N)\n",
    "u, v = np.meshgrid(su,sv)\n",
    "R = 4\n",
    "r = 1\n",
    "x = (R + r*cos(2*pi*v)) * cos(2*pi*u)\n",
    "y = (R + r*cos(2*pi*v)) * sin(2*pi*u)\n",
    "z = r * sin(2*pi*v) "
   ]
  },
  {
   "cell_type": "markdown",
   "metadata": {},
   "source": [
    "Define a function that returns the list of images obtained by iterating an Arnold map n_iterations times, i.e. an image orbit:"
   ]
  },
  {
   "cell_type": "code",
   "execution_count": null,
   "metadata": {},
   "outputs": [],
   "source": [
    "def map_iterate(img,  a=1, b=1, n_iterations=1):\n",
    "    m, n = img.shape\n",
    "    if m != n:\n",
    "        raise ValueError('Arnold map acts on images of shape N x N')\n",
    "    imagelist = [np.flipud(img)]\n",
    "    idx = np.arange(m)\n",
    "    xim, yim = np.meshgrid(idx, idx) #(xim, yim) are the pixel  (x,y)-coordinates \n",
    "    for _ in range(1, n_iterations):\n",
    "        xtemp = ((1+a*b)*xim + a*yim) % m\n",
    "        yim = (b*xim + yim) % m\n",
    "        xim = xtemp\n",
    "        imagelist.append(np.flipud(img[yim, xim]))                                        \n",
    "    return imagelist  \n"
   ]
  },
  {
   "cell_type": "markdown",
   "metadata": {},
   "source": [
    "Define 6 frames for animation: the first one displays the original images, and the others the images resulted from iterating\n",
    "the  Arnold map. After the  $5^{th}$ iteration the colors are mixed."
   ]
  },
  {
   "cell_type": "code",
   "execution_count": null,
   "metadata": {},
   "outputs": [],
   "source": [
    "nframes = 6\n",
    "surfcolor = map_iterate(img, n_iterations=nframes)"
   ]
  },
  {
   "cell_type": "markdown",
   "metadata": {},
   "source": [
    "Define the subplot figure:"
   ]
  },
  {
   "cell_type": "code",
   "execution_count": null,
   "metadata": {
    "scrolled": true
   },
   "outputs": [],
   "source": [
    "fig = make_subplots(\n",
    "    rows=1, cols=2,\n",
    "    specs=[[{\"type\": \"xy\"}, {\"type\": \"scene\"}]],\n",
    "    horizontal_spacing=0.05)\n",
    "\n",
    "fig.add_trace(go.Heatmap(z = surfcolor[0], \n",
    "                         coloraxis='coloraxis'), 1, 1)\n",
    "\n",
    "fig.add_trace(go.Surface(x=x, y=y, z=z,\n",
    "                         surfacecolor=surfcolor[0], \n",
    "                         coloraxis='coloraxis' ))\n",
    "\n",
    "axes3D = dict(scene_xaxis_visible=False, \n",
    "              scene_yaxis_visible=False, \n",
    "              scene_zaxis_visible=False)\n",
    "\n",
    "fig.update_layout(title_text = f'Left: image of resolution 128 x128. Right: image mapped on the torus',\n",
    "                  title_x=0.5, font_color='white',\n",
    "                  width=700, height=450, scene_aspectmode='data',\n",
    "                  coloraxis=dict(colorscale='matter_r', \n",
    "                                 showscale=False,\n",
    "                                 ),\n",
    "                  xaxis_showticklabels=False,\n",
    "                  yaxis_showticklabels=False,\n",
    "                  **axes3D,\n",
    "                  paper_bgcolor='black');"
   ]
  },
  {
   "cell_type": "code",
   "execution_count": null,
   "metadata": {},
   "outputs": [],
   "source": [
    "#fig.show()"
   ]
  },
  {
   "cell_type": "markdown",
   "metadata": {},
   "source": [
    "Define the animation frames:"
   ]
  },
  {
   "cell_type": "code",
   "execution_count": null,
   "metadata": {},
   "outputs": [],
   "source": [
    "frames = [ ]\n",
    "\n",
    "for k in range(nframes):\n",
    "    frames.append(go.Frame(data= [go.Heatmap(z=surfcolor[k]),\n",
    "                                  go.Surface(surfacecolor=surfcolor[k])],\n",
    "                           layout= go.Layout(title_text=f'Arnold cat map, iteration #{k}'),\n",
    "                           traces =[0,1]))\n",
    "    \n",
    "fig.update_layout(updatemenus=[dict(type='buttons',\n",
    "                                  showactive=False,\n",
    "                                  y=0,\n",
    "                                  x=1.05,\n",
    "                                  xanchor='left',\n",
    "                                  yanchor='top',\n",
    "                                  pad=dict(t=1),\n",
    "                                  buttons=[dict(label='Play',\n",
    "                                                method='animate',\n",
    "                                                args=[None, dict(frame=dict(duration=50, redraw=True), \n",
    "                                                                 transition=dict(duration=0),\n",
    "                                                                 fromcurrent=True,\n",
    "                                                                 mode='immediate'\n",
    "                                                                 )])\n",
    "                                          ]\n",
    "                                  )])   \n",
    "fig.update(frames=frames);\n"
   ]
  },
  {
   "cell_type": "code",
   "execution_count": 2,
   "metadata": {},
   "outputs": [
    {
     "data": {
      "text/html": [
       "<img src=\"anim-arnold-cat.gif\">\n"
      ],
      "text/plain": [
       "<IPython.core.display.HTML object>"
      ]
     },
     "metadata": {},
     "output_type": "display_data"
    }
   ],
   "source": [
    "%%html \n",
    "<img src=\"anim-arnold-cat.gif\">"
   ]
  },
  {
   "cell_type": "markdown",
   "metadata": {},
   "source": [
    "Let us illustrate the periodicity of the (cat) image (cropped to get the resolution $124 \\times 124$), with respect to the generalized Arnold map, defined by a=40, and b=8.  Following the results in the above mentioned references, we deduced that an image of such resolution has the period 5. Let us confirm it through simulation:"
   ]
  },
  {
   "cell_type": "code",
   "execution_count": null,
   "metadata": {},
   "outputs": [],
   "source": [
    "#imag = sio.imread (\"cat-128.jpg\")  \n",
    "img1 = imag[2:-2, 2:-2, 1]\n",
    "img1.shape"
   ]
  },
  {
   "cell_type": "code",
   "execution_count": null,
   "metadata": {},
   "outputs": [],
   "source": [
    "imagelist = map_iterate(img1, a=40, b=8, n_iterations=6)"
   ]
  },
  {
   "cell_type": "code",
   "execution_count": null,
   "metadata": {},
   "outputs": [],
   "source": [
    "fig124 = make_subplots(\n",
    "    rows=2, cols=3,\n",
    "    horizontal_spacing=0.02,\n",
    "    vertical_spacing=0.05,\n",
    "    subplot_titles=('Original image', 'Iteration #1', 'Iteration #2', 'Iteration #3', 'Iteration #4', 'Iteration #5')\n",
    ")\n",
    "\n",
    "for k in range(6):\n",
    "    fig124.add_trace(go.Heatmap(z=imagelist[k], coloraxis='coloraxis'), k//3+1, k-3*(k//3)+1)\n",
    "    fig124.update_layout(width=800, height=600,\n",
    "                         title_text='5-periodic image with respect to the action of a generalized Arnold map',\n",
    "                         title_x=0.5,\n",
    "                        coloraxis=dict(colorscale='matter_r', colorbar_thickness=25))\n",
    "    fig124.update_xaxes(showticklabels=False, ticks='')\n",
    "    fig124.update_yaxes(showticklabels=False, ticks='')\n"
   ]
  },
  {
   "cell_type": "code",
   "execution_count": null,
   "metadata": {},
   "outputs": [],
   "source": [
    "fig.show()"
   ]
  },
  {
   "cell_type": "markdown",
   "metadata": {},
   "source": [
    "."
   ]
  },
  {
   "cell_type": "markdown",
   "metadata": {},
   "source": [
    "."
   ]
  },
  {
   "cell_type": "code",
   "execution_count": null,
   "metadata": {},
   "outputs": [],
   "source": []
  }
 ],
 "metadata": {
  "kernelspec": {
   "display_name": "Python 3",
   "language": "python",
   "name": "python3"
  },
  "language_info": {
   "codemirror_mode": {
    "name": "ipython",
    "version": 3
   },
   "file_extension": ".py",
   "mimetype": "text/x-python",
   "name": "python",
   "nbconvert_exporter": "python",
   "pygments_lexer": "ipython3",
   "version": "3.7.3"
  }
 },
 "nbformat": 4,
 "nbformat_minor": 2
}
